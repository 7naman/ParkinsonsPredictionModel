{
 "metadata": {
  "language_info": {
   "codemirror_mode": {
    "name": "ipython",
    "version": 3
   },
   "file_extension": ".py",
   "mimetype": "text/x-python",
   "name": "python",
   "nbconvert_exporter": "python",
   "pygments_lexer": "ipython3",
   "version": "3.8.5"
  },
  "orig_nbformat": 2,
  "kernelspec": {
   "name": "python385jvsc74a57bd0fd84ac58510147dede9c3e828d57d8ccd656ce571f91af97a007b49d17caa2c9",
   "display_name": "Python 3.8.5 64-bit ('base': conda)"
  }
 },
 "nbformat": 4,
 "nbformat_minor": 2,
 "cells": [
  {
   "cell_type": "code",
   "execution_count": 1,
   "metadata": {},
   "outputs": [
    {
     "output_type": "stream",
     "name": "stdout",
     "text": [
      "All Modules Loaded\n"
     ]
    }
   ],
   "source": [
    "try :\n",
    "  import numpy as np\n",
    "  import pandas as pd\n",
    "  import seaborn as sns\n",
    "  import matplotlib.pyplot as plt\n",
    "  import warnings\n",
    "  import seaborn as sns\n",
    "  from glob import glob\n",
    "  from sklearn.model_selection import train_test_split\n",
    "  from sklearn.tree import DecisionTreeClassifier\n",
    "  from sklearn import metrics\n",
    "  from sklearn.metrics import accuracy_score\n",
    "  from sklearn.ensemble import RandomForestClassifier\n",
    "  import joblib\n",
    "  import parselmouth\n",
    "  from parselmouth.praat import call\n",
    "  import sklearn\n",
    "  %matplotlib inline\n",
    "  warnings.filterwarnings(\"ignore\")\n",
    "  print(\"All Modules Loaded\")\n",
    "except Exception as E:\n",
    "  print(\"Some Modules are missing {}\".format(e))"
   ]
  },
  {
   "cell_type": "code",
   "execution_count": 2,
   "metadata": {},
   "outputs": [],
   "source": [
    "def measurePitch(voiceID, f0min, f0max, unit):\n",
    "    sound = parselmouth.Sound(voiceID) # read the sound\n",
    "    pitch = call(sound, \"To Pitch\", 0.0, f0min, f0max)\n",
    "    pointProcess = call(sound, \"To PointProcess (periodic, cc)\", f0min, f0max)\n",
    "    localJitter = call(pointProcess, \"Get jitter (local)\", 0, 0, 0.0001, 0.02, 1.3)\n",
    "    localabsoluteJitter = call(pointProcess, \"Get jitter (local, absolute)\", 0, 0, 0.0001, 0.02, 1.3)\n",
    "    rapJitter = call(pointProcess, \"Get jitter (rap)\", 0, 0, 0.0001, 0.02, 1.3)\n",
    "    ppq5Jitter = call(pointProcess, \"Get jitter (ppq5)\", 0, 0, 0.0001, 0.02, 1.3)\n",
    "    localShimmer =  call([sound, pointProcess], \"Get shimmer (local)\", 0, 0, 0.0001, 0.02, 1.3, 1.6)\n",
    "    localdbShimmer = call([sound, pointProcess], \"Get shimmer (local_dB)\", 0, 0, 0.0001, 0.02, 1.3, 1.6)\n",
    "    apq3Shimmer = call([sound, pointProcess], \"Get shimmer (apq3)\", 0, 0, 0.0001, 0.02, 1.3, 1.6)\n",
    "    aqpq5Shimmer = call([sound, pointProcess], \"Get shimmer (apq5)\", 0, 0, 0.0001, 0.02, 1.3, 1.6)\n",
    "    apq11Shimmer =  call([sound, pointProcess], \"Get shimmer (apq11)\", 0, 0, 0.0001, 0.02, 1.3, 1.6)\n",
    "    harmonicity05 = call(sound, \"To Harmonicity (cc)\", 0.01, 500, 0.1, 1.0)\n",
    "    hnr05 = call(harmonicity05, \"Get mean\", 0, 0)\n",
    "    harmonicity15 = call(sound, \"To Harmonicity (cc)\", 0.01, 1500, 0.1, 1.0)\n",
    "    hnr15 = call(harmonicity15, \"Get mean\", 0, 0)\n",
    "    harmonicity25 = call(sound, \"To Harmonicity (cc)\", 0.01, 2500, 0.1, 1.0)\n",
    "    hnr25 = call(harmonicity25, \"Get mean\", 0, 0)\n",
    "    harmonicity35 = call(sound, \"To Harmonicity (cc)\", 0.01, 3500, 0.1, 1.0)\n",
    "    hnr35 = call(harmonicity35, \"Get mean\", 0, 0)\n",
    "    harmonicity38 = call(sound, \"To Harmonicity (cc)\", 0.01, 3800, 0.1, 1.0)\n",
    "    hnr38 = call(harmonicity38, \"Get mean\", 0, 0)\n",
    "    return localJitter, localabsoluteJitter, rapJitter, ppq5Jitter, localShimmer, localdbShimmer, apq3Shimmer, aqpq5Shimmer, apq11Shimmer, hnr05, hnr15 ,hnr25 ,hnr35 ,hnr38"
   ]
  },
  {
   "cell_type": "code",
   "execution_count": 3,
   "metadata": {},
   "outputs": [],
   "source": [
    "print(len(filenames_read_text[0]))\n",
    "print(filenames_read_text[0])\n",
    "# print(filenames_d[0][101])\n",
    "print(filenames_read_text[0][103])"
   ]
  },
  {
   "cell_type": "code",
   "execution_count": 4,
   "metadata": {},
   "outputs": [
    {
     "output_type": "stream",
     "name": "stdout",
     "text": [
      "['C:\\\\Users\\\\naman\\\\Downloads\\\\Final Year Project Work\\\\parkinsons_voice_recordings\\\\voice_data_dialoge\\\\ID00_hc_0_0_0.wav', 'C:\\\\Users\\\\naman\\\\Downloads\\\\Final Year Project Work\\\\parkinsons_voice_recordings\\\\voice_data_dialoge\\\\ID01_hc_0_0_0.wav', 'C:\\\\Users\\\\naman\\\\Downloads\\\\Final Year Project Work\\\\parkinsons_voice_recordings\\\\voice_data_dialoge\\\\ID02_pd_2_0_0.wav', 'C:\\\\Users\\\\naman\\\\Downloads\\\\Final Year Project Work\\\\parkinsons_voice_recordings\\\\voice_data_dialoge\\\\ID03_hc_0_0_0.wav', 'C:\\\\Users\\\\naman\\\\Downloads\\\\Final Year Project Work\\\\parkinsons_voice_recordings\\\\voice_data_dialoge\\\\ID04_pd_2_0_1.wav', 'C:\\\\Users\\\\naman\\\\Downloads\\\\Final Year Project Work\\\\parkinsons_voice_recordings\\\\voice_data_dialoge\\\\ID05_hc_0_0_0.wav', 'C:\\\\Users\\\\naman\\\\Downloads\\\\Final Year Project Work\\\\parkinsons_voice_recordings\\\\voice_data_dialoge\\\\ID06_pd_3_1_1.wav', 'C:\\\\Users\\\\naman\\\\Downloads\\\\Final Year Project Work\\\\parkinsons_voice_recordings\\\\voice_data_dialoge\\\\ID07_pd_2_0_0.wav', 'C:\\\\Users\\\\naman\\\\Downloads\\\\Final Year Project Work\\\\parkinsons_voice_recordings\\\\voice_data_dialoge\\\\ID08_hc_0_0_0.wav', 'C:\\\\Users\\\\naman\\\\Downloads\\\\Final Year Project Work\\\\parkinsons_voice_recordings\\\\voice_data_dialoge\\\\ID09_hc_0_0_0.wav', 'C:\\\\Users\\\\naman\\\\Downloads\\\\Final Year Project Work\\\\parkinsons_voice_recordings\\\\voice_data_dialoge\\\\ID10_hc_0_0_0.wav', 'C:\\\\Users\\\\naman\\\\Downloads\\\\Final Year Project Work\\\\parkinsons_voice_recordings\\\\voice_data_dialoge\\\\ID11_hc_0_0_0.wav', 'C:\\\\Users\\\\naman\\\\Downloads\\\\Final Year Project Work\\\\parkinsons_voice_recordings\\\\voice_data_dialoge\\\\ID12_hc_0_0_0.wav', 'C:\\\\Users\\\\naman\\\\Downloads\\\\Final Year Project Work\\\\parkinsons_voice_recordings\\\\voice_data_dialoge\\\\ID13_pd_3_2_2.wav', 'C:\\\\Users\\\\naman\\\\Downloads\\\\Final Year Project Work\\\\parkinsons_voice_recordings\\\\voice_data_dialoge\\\\ID14_hc_0_0_0.wav', 'C:\\\\Users\\\\naman\\\\Downloads\\\\Final Year Project Work\\\\parkinsons_voice_recordings\\\\voice_data_dialoge\\\\ID15_hc_0_0_0.wav', 'C:\\\\Users\\\\naman\\\\Downloads\\\\Final Year Project Work\\\\parkinsons_voice_recordings\\\\voice_data_dialoge\\\\ID16_pd_2_0_0.wav', 'C:\\\\Users\\\\naman\\\\Downloads\\\\Final Year Project Work\\\\parkinsons_voice_recordings\\\\voice_data_dialoge\\\\ID17_pd_2_1_0.wav', 'C:\\\\Users\\\\naman\\\\Downloads\\\\Final Year Project Work\\\\parkinsons_voice_recordings\\\\voice_data_dialoge\\\\ID19_hc_0_0_0.wav', 'C:\\\\Users\\\\naman\\\\Downloads\\\\Final Year Project Work\\\\parkinsons_voice_recordings\\\\voice_data_dialoge\\\\ID20_pd_3_0_1.wav', 'C:\\\\Users\\\\naman\\\\Downloads\\\\Final Year Project Work\\\\parkinsons_voice_recordings\\\\voice_data_dialoge\\\\ID21_hc_0_0_0.wav', 'C:\\\\Users\\\\naman\\\\Downloads\\\\Final Year Project Work\\\\parkinsons_voice_recordings\\\\voice_data_dialoge\\\\ID22hc_0_0_0.wav', 'C:\\\\Users\\\\naman\\\\Downloads\\\\Final Year Project Work\\\\parkinsons_voice_recordings\\\\voice_data_dialoge\\\\ID23_hc_0_0_0.wav', 'C:\\\\Users\\\\naman\\\\Downloads\\\\Final Year Project Work\\\\parkinsons_voice_recordings\\\\voice_data_dialoge\\\\ID24_pd_2_0_0.wav', 'C:\\\\Users\\\\naman\\\\Downloads\\\\Final Year Project Work\\\\parkinsons_voice_recordings\\\\voice_data_dialoge\\\\ID25_hc_0_0_0.wav', 'C:\\\\Users\\\\naman\\\\Downloads\\\\Final Year Project Work\\\\parkinsons_voice_recordings\\\\voice_data_dialoge\\\\ID26_hc_0_0_0.wav', 'C:\\\\Users\\\\naman\\\\Downloads\\\\Final Year Project Work\\\\parkinsons_voice_recordings\\\\voice_data_dialoge\\\\ID27_pd_4_1_1.wav', 'C:\\\\Users\\\\naman\\\\Downloads\\\\Final Year Project Work\\\\parkinsons_voice_recordings\\\\voice_data_dialoge\\\\ID28_hc_0_0_0.wav', 'C:\\\\Users\\\\naman\\\\Downloads\\\\Final Year Project Work\\\\parkinsons_voice_recordings\\\\voice_data_dialoge\\\\ID29_pd_3_1_2.wav', 'C:\\\\Users\\\\naman\\\\Downloads\\\\Final Year Project Work\\\\parkinsons_voice_recordings\\\\voice_data_dialoge\\\\ID30_pd_2_1_1.wav', 'C:\\\\Users\\\\naman\\\\Downloads\\\\Final Year Project Work\\\\parkinsons_voice_recordings\\\\voice_data_dialoge\\\\ID31_hc_0_1_1.wav', 'C:\\\\Users\\\\naman\\\\Downloads\\\\Final Year Project Work\\\\parkinsons_voice_recordings\\\\voice_data_dialoge\\\\ID32_pd_3_1_1.wav', 'C:\\\\Users\\\\naman\\\\Downloads\\\\Final Year Project Work\\\\parkinsons_voice_recordings\\\\voice_data_dialoge\\\\ID33_pd_3_2_2.wav', 'C:\\\\Users\\\\naman\\\\Downloads\\\\Final Year Project Work\\\\parkinsons_voice_recordings\\\\voice_data_dialoge\\\\ID34_pd_2_0_0.wav', 'C:\\\\Users\\\\naman\\\\Downloads\\\\Final Year Project Work\\\\parkinsons_voice_recordings\\\\voice_data_dialoge\\\\ID35_hc_0_0_0.wav', 'C:\\\\Users\\\\naman\\\\Downloads\\\\Final Year Project Work\\\\parkinsons_voice_recordings\\\\voice_data_dialoge\\\\ID36_hc_0_0_0.wav']\n['C:\\\\Users\\\\naman\\\\Downloads\\\\Final Year Project Work\\\\parkinsons_voice_recordings\\\\voice_data_read_text\\\\ID00_hc_0_0_0.wav', 'C:\\\\Users\\\\naman\\\\Downloads\\\\Final Year Project Work\\\\parkinsons_voice_recordings\\\\voice_data_read_text\\\\ID01_hc_0_0_0.wav', 'C:\\\\Users\\\\naman\\\\Downloads\\\\Final Year Project Work\\\\parkinsons_voice_recordings\\\\voice_data_read_text\\\\ID02_pd_2_0_0.wav', 'C:\\\\Users\\\\naman\\\\Downloads\\\\Final Year Project Work\\\\parkinsons_voice_recordings\\\\voice_data_read_text\\\\ID03_hc_0_0_0.wav', 'C:\\\\Users\\\\naman\\\\Downloads\\\\Final Year Project Work\\\\parkinsons_voice_recordings\\\\voice_data_read_text\\\\ID04_pd_2_0_1.wav', 'C:\\\\Users\\\\naman\\\\Downloads\\\\Final Year Project Work\\\\parkinsons_voice_recordings\\\\voice_data_read_text\\\\ID05_hc_0_0_0.wav', 'C:\\\\Users\\\\naman\\\\Downloads\\\\Final Year Project Work\\\\parkinsons_voice_recordings\\\\voice_data_read_text\\\\ID06_pd_3_1_1.wav', 'C:\\\\Users\\\\naman\\\\Downloads\\\\Final Year Project Work\\\\parkinsons_voice_recordings\\\\voice_data_read_text\\\\ID07_pd_2_0_0.wav', 'C:\\\\Users\\\\naman\\\\Downloads\\\\Final Year Project Work\\\\parkinsons_voice_recordings\\\\voice_data_read_text\\\\ID08_hc_0_0_0.wav', 'C:\\\\Users\\\\naman\\\\Downloads\\\\Final Year Project Work\\\\parkinsons_voice_recordings\\\\voice_data_read_text\\\\ID09_hc_0_0_0.wav', 'C:\\\\Users\\\\naman\\\\Downloads\\\\Final Year Project Work\\\\parkinsons_voice_recordings\\\\voice_data_read_text\\\\ID10_hc_0_0_0.wav', 'C:\\\\Users\\\\naman\\\\Downloads\\\\Final Year Project Work\\\\parkinsons_voice_recordings\\\\voice_data_read_text\\\\ID11_hc_0_0_0.wav', 'C:\\\\Users\\\\naman\\\\Downloads\\\\Final Year Project Work\\\\parkinsons_voice_recordings\\\\voice_data_read_text\\\\ID12_hc_0_0_0.wav', 'C:\\\\Users\\\\naman\\\\Downloads\\\\Final Year Project Work\\\\parkinsons_voice_recordings\\\\voice_data_read_text\\\\ID13_pd_3_2_2.wav', 'C:\\\\Users\\\\naman\\\\Downloads\\\\Final Year Project Work\\\\parkinsons_voice_recordings\\\\voice_data_read_text\\\\ID14_hc_0_0_0.wav', 'C:\\\\Users\\\\naman\\\\Downloads\\\\Final Year Project Work\\\\parkinsons_voice_recordings\\\\voice_data_read_text\\\\ID15_hc_0_0_0.wav', 'C:\\\\Users\\\\naman\\\\Downloads\\\\Final Year Project Work\\\\parkinsons_voice_recordings\\\\voice_data_read_text\\\\ID16_pd_2_0_0.wav', 'C:\\\\Users\\\\naman\\\\Downloads\\\\Final Year Project Work\\\\parkinsons_voice_recordings\\\\voice_data_read_text\\\\ID17_pd_2_1_0.wav', 'C:\\\\Users\\\\naman\\\\Downloads\\\\Final Year Project Work\\\\parkinsons_voice_recordings\\\\voice_data_read_text\\\\ID18_pd_4_3_3.wav', 'C:\\\\Users\\\\naman\\\\Downloads\\\\Final Year Project Work\\\\parkinsons_voice_recordings\\\\voice_data_read_text\\\\ID19_hc_0_0_0.wav', 'C:\\\\Users\\\\naman\\\\Downloads\\\\Final Year Project Work\\\\parkinsons_voice_recordings\\\\voice_data_read_text\\\\ID20_pd_3_0_1.wav', 'C:\\\\Users\\\\naman\\\\Downloads\\\\Final Year Project Work\\\\parkinsons_voice_recordings\\\\voice_data_read_text\\\\ID21_hc_0_0_0.wav', 'C:\\\\Users\\\\naman\\\\Downloads\\\\Final Year Project Work\\\\parkinsons_voice_recordings\\\\voice_data_read_text\\\\ID22_hc_0_0_0.wav', 'C:\\\\Users\\\\naman\\\\Downloads\\\\Final Year Project Work\\\\parkinsons_voice_recordings\\\\voice_data_read_text\\\\ID22hc_0_0_0.wav', 'C:\\\\Users\\\\naman\\\\Downloads\\\\Final Year Project Work\\\\parkinsons_voice_recordings\\\\voice_data_read_text\\\\ID23_hc_0_0_0.wav', 'C:\\\\Users\\\\naman\\\\Downloads\\\\Final Year Project Work\\\\parkinsons_voice_recordings\\\\voice_data_read_text\\\\ID24_pd_2_0_0.wav', 'C:\\\\Users\\\\naman\\\\Downloads\\\\Final Year Project Work\\\\parkinsons_voice_recordings\\\\voice_data_read_text\\\\ID25_hc_0_0_0.wav', 'C:\\\\Users\\\\naman\\\\Downloads\\\\Final Year Project Work\\\\parkinsons_voice_recordings\\\\voice_data_read_text\\\\ID26_hc_0_0_0.wav', 'C:\\\\Users\\\\naman\\\\Downloads\\\\Final Year Project Work\\\\parkinsons_voice_recordings\\\\voice_data_read_text\\\\ID27_pd_4_1_1.wav', 'C:\\\\Users\\\\naman\\\\Downloads\\\\Final Year Project Work\\\\parkinsons_voice_recordings\\\\voice_data_read_text\\\\ID28_hc_0_0_0.wav', 'C:\\\\Users\\\\naman\\\\Downloads\\\\Final Year Project Work\\\\parkinsons_voice_recordings\\\\voice_data_read_text\\\\ID29_pd_3_1_2.wav', 'C:\\\\Users\\\\naman\\\\Downloads\\\\Final Year Project Work\\\\parkinsons_voice_recordings\\\\voice_data_read_text\\\\ID30_pd_2_1_1.wav', 'C:\\\\Users\\\\naman\\\\Downloads\\\\Final Year Project Work\\\\parkinsons_voice_recordings\\\\voice_data_read_text\\\\ID31_hc_0_1_1.wav', 'C:\\\\Users\\\\naman\\\\Downloads\\\\Final Year Project Work\\\\parkinsons_voice_recordings\\\\voice_data_read_text\\\\ID32_pd_3_1_1.wav', 'C:\\\\Users\\\\naman\\\\Downloads\\\\Final Year Project Work\\\\parkinsons_voice_recordings\\\\voice_data_read_text\\\\ID33_pd_3_2_2.wav', 'C:\\\\Users\\\\naman\\\\Downloads\\\\Final Year Project Work\\\\parkinsons_voice_recordings\\\\voice_data_read_text\\\\ID34_pd_2_0_0.wav', 'C:\\\\Users\\\\naman\\\\Downloads\\\\Final Year Project Work\\\\parkinsons_voice_recordings\\\\voice_data_read_text\\\\ID35_hc_0_0_0.wav', 'C:\\\\Users\\\\naman\\\\Downloads\\\\Final Year Project Work\\\\parkinsons_voice_recordings\\\\voice_data_read_text\\\\ID36_hc_0_0_0.wav']\n"
     ]
    }
   ],
   "source": [
    "filenames_d = glob(r'C:\\Users\\naman\\Downloads\\Final Year Project Work\\parkinsons_voice_recordings\\voice_data_dialoge/*wav')\n",
    "filenames_d.sort()\n",
    "filenames_read_text = glob(r'C:\\Users\\naman\\Downloads\\Final Year Project Work\\parkinsons_voice_recordings\\voice_data_read_text/*wav')\n",
    "filenames_read_text.sort()\n",
    "print(filenames_d)\n",
    "print(filenames_read_text)"
   ]
  },
  {
   "cell_type": "code",
   "execution_count": 5,
   "metadata": {},
   "outputs": [],
   "source": [
    "try:    \n",
    "    file_list = []\n",
    "    localJitter_list = []\n",
    "    localabsoluteJitter_list = []\n",
    "    rapJitter_list = []\n",
    "    ppq5Jitter_list = []\n",
    "    localShimmer_list = []\n",
    "    localdbShimmer_list = []\n",
    "    apq3Shimmer_list = []\n",
    "    aqpq5Shimmer_list = []\n",
    "    apq11Shimmer_list = []\n",
    "    hnr05_list = []\n",
    "    hnr15_list = [] \n",
    "    hnr25_list = []\n",
    "    hnr35_list = []\n",
    "    hnr38_list = []\n",
    "    parkinsons_status_list = []\n",
    "\n",
    "    for file in filenames_d:\n",
    "        sound = parselmouth.Sound(file)\n",
    "        (localJitter, localabsoluteJitter, rapJitter, ppq5Jitter, localShimmer, localdbShimmer, apq3Shimmer,aqpq5Shimmer,apq11Shimmer, hnr05, hnr15, hnr25, hnr35, hnr38) = measurePitch(sound, 75, 1000, \"Hertz\")\n",
    "\n",
    "        localJitter_list.append(localJitter)  # make a mean F0 list\n",
    "        localabsoluteJitter_list.append(localabsoluteJitter)  # make a sd F0 list\n",
    "        rapJitter_list.append(rapJitter)\n",
    "        ppq5Jitter_list.append(ppq5Jitter)\n",
    "        localShimmer_list.append(localShimmer)\n",
    "        localdbShimmer_list.append(localdbShimmer)\n",
    "        apq3Shimmer_list.append(apq3Shimmer)\n",
    "        aqpq5Shimmer_list.append(aqpq5Shimmer)\n",
    "        apq11Shimmer_list.append(apq11Shimmer)\n",
    "        hnr05_list.append(hnr05)\n",
    "        hnr15_list.append(hnr15)\n",
    "        hnr25_list.append(hnr25)\n",
    "        hnr35_list.append(hnr35)\n",
    "        hnr38_list.append(hnr38)\n",
    "\n",
    "        if file[101] == 'h':\n",
    "            parkinsons_status_list.append(0)\n",
    "        else:\n",
    "            parkinsons_status_list.append(1)\n",
    "\n",
    "    for file in filenames_read_text:\n",
    "        sound = parselmouth.Sound(file)\n",
    "        (localJitter, localabsoluteJitter, rapJitter, ppq5Jitter, localShimmer, localdbShimmer, apq3Shimmer,aqpq5Shimmer,apq11Shimmer, hnr05, hnr15, hnr25, hnr35, hnr38) = measurePitch(sound, 75, 1000, \"Hertz\")\n",
    "        localJitter_list.append(localJitter)  # make a mean F0 list\n",
    "        localabsoluteJitter_list.append(localabsoluteJitter)  # make a sd F0 list\n",
    "        rapJitter_list.append(rapJitter)\n",
    "        ppq5Jitter_list.append(ppq5Jitter)\n",
    "        localShimmer_list.append(localShimmer)\n",
    "        localdbShimmer_list.append(localdbShimmer)\n",
    "        apq3Shimmer_list.append(apq3Shimmer)\n",
    "        aqpq5Shimmer_list.append(aqpq5Shimmer)\n",
    "        apq11Shimmer_list.append(apq11Shimmer)\n",
    "        hnr05_list.append(hnr05)\n",
    "        hnr15_list.append(hnr15)\n",
    "        hnr25_list.append(hnr25)\n",
    "        hnr35_list.append(hnr35)\n",
    "        hnr38_list.append(hnr38)\n",
    "        \n",
    "        if file[103] == 'h':\n",
    "            parkinsons_status_list.append(0)\n",
    "        else:\n",
    "            parkinsons_status_list.append(1)\n",
    "\n",
    "    df = pd.DataFrame()\n",
    "    df['Jitter'] = localJitter_list\n",
    "    df['Jitter_absolute'] = localabsoluteJitter_list\n",
    "    df['Jitter-rap'] = rapJitter_list\n",
    "    df['Jitter_ppq5'] = ppq5Jitter_list\n",
    "    df['Shimmer'] =localShimmer_list\n",
    "    df['Shimmer_db'] = localdbShimmer_list\n",
    "    df['Shimmer_apq3'] = apq3Shimmer_list\n",
    "    df['Shimmeraqpq5'] = aqpq5Shimmer_list\n",
    "    df['Shimmer_apq11'] = apq11Shimmer_list \n",
    "    df['hnr05'] = hnr05_list\n",
    "    df['hnr15'] = hnr15_list\n",
    "    df['hnr25'] = hnr25_list\n",
    "    df['hnr35'] = hnr35_list\n",
    "    df['hnr38'] = hnr38_list\n",
    "    df['parkinsons_status'] = parkinsons_status_list\n",
    "    df.to_csv(r'C:\\Users\\naman\\Downloads\\Final Year Project Work\\parkinsons_voice_recordings/converted_final.csv', index = 0)\n",
    "\n",
    "except Exception as E:\n",
    "  print(\"Error {}\".format(e))"
   ]
  },
  {
   "cell_type": "code",
   "execution_count": 8,
   "metadata": {},
   "outputs": [
    {
     "output_type": "stream",
     "name": "stdout",
     "text": [
      "(74, 15)\n(72, 15)\n"
     ]
    }
   ],
   "source": [
    "df = pd.read_csv(r'C:\\Users\\naman\\Downloads\\Final Year Project Work\\parkinsons_voice_recordings/converted_final.csv')\n",
    "print(df.shape)\n",
    "df = df.dropna()\n",
    "print(df.shape)\n",
    "df.to_csv(r'C:\\Users\\naman\\Downloads\\Final Year Project Work\\parkinsons_voice_recordings/voice_data.csv', index = 0)\n"
   ]
  },
  {
   "cell_type": "code",
   "execution_count": 9,
   "metadata": {},
   "outputs": [
    {
     "output_type": "execute_result",
     "data": {
      "text/plain": [
       "Index(['Jitter', 'Jitter_absolute', 'Jitter-rap', 'Jitter_ppq5', 'Shimmer',\n",
       "       'Shimmer_db', 'Shimmer_apq3', 'Shimmeraqpq5', 'Shimmer_apq11', 'hnr05',\n",
       "       'hnr15', 'hnr25', 'hnr35', 'hnr38', 'parkinsons_status'],\n",
       "      dtype='object')"
      ]
     },
     "metadata": {},
     "execution_count": 9
    }
   ],
   "source": [
    "df.columns"
   ]
  }
 ]
}